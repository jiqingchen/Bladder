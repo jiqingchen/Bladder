{
 "cells": [
  {
   "cell_type": "code",
   "execution_count": 5,
   "metadata": {},
   "outputs": [],
   "source": [
    "import tensorflow as tf\n",
    "from tensorflow import keras\n",
    "from tensorflow.keras.models import Model, Sequential\n",
    "from tensorflow.keras.layers import Dense, Input, LeakyReLU\n",
    "\n",
    "import pandas as pd\n",
    "import numpy as np\n",
    "import matplotlib.pyplot as plt"
   ]
  },
  {
   "cell_type": "code",
   "execution_count": 2,
   "metadata": {},
   "outputs": [
    {
     "data": {
      "text/html": [
       "<div>\n",
       "<style scoped>\n",
       "    .dataframe tbody tr th:only-of-type {\n",
       "        vertical-align: middle;\n",
       "    }\n",
       "\n",
       "    .dataframe tbody tr th {\n",
       "        vertical-align: top;\n",
       "    }\n",
       "\n",
       "    .dataframe thead th {\n",
       "        text-align: right;\n",
       "    }\n",
       "</style>\n",
       "<table border=\"1\" class=\"dataframe\">\n",
       "  <thead>\n",
       "    <tr style=\"text-align: right;\">\n",
       "      <th></th>\n",
       "      <th>cg00120423</th>\n",
       "      <th>cg00490406</th>\n",
       "      <th>cg00905101</th>\n",
       "      <th>cg00938163</th>\n",
       "      <th>cg01240432</th>\n",
       "      <th>cg01309511</th>\n",
       "      <th>cg01453469</th>\n",
       "      <th>cg01561719</th>\n",
       "      <th>cg01815076</th>\n",
       "      <th>cg01823541</th>\n",
       "      <th>...</th>\n",
       "      <th>cg25518302</th>\n",
       "      <th>cg25693439</th>\n",
       "      <th>cg26261002</th>\n",
       "      <th>cg26295541</th>\n",
       "      <th>cg26418880</th>\n",
       "      <th>cg26436927</th>\n",
       "      <th>cg26821758</th>\n",
       "      <th>cg27262850</th>\n",
       "      <th>cg27314686</th>\n",
       "      <th>cg27528971</th>\n",
       "    </tr>\n",
       "  </thead>\n",
       "  <tbody>\n",
       "    <tr>\n",
       "      <th>0</th>\n",
       "      <td>2.772213</td>\n",
       "      <td>-0.357180</td>\n",
       "      <td>-1.874418</td>\n",
       "      <td>3.969904</td>\n",
       "      <td>2.600351</td>\n",
       "      <td>-2.086137</td>\n",
       "      <td>-2.454501</td>\n",
       "      <td>-2.169805</td>\n",
       "      <td>-2.078128</td>\n",
       "      <td>-3.010737</td>\n",
       "      <td>...</td>\n",
       "      <td>-3.804770</td>\n",
       "      <td>-1.809027</td>\n",
       "      <td>-2.196729</td>\n",
       "      <td>-3.526672</td>\n",
       "      <td>-3.810276</td>\n",
       "      <td>1.259756</td>\n",
       "      <td>2.897851</td>\n",
       "      <td>-2.026000</td>\n",
       "      <td>-2.071414</td>\n",
       "      <td>2.806982</td>\n",
       "    </tr>\n",
       "    <tr>\n",
       "      <th>1</th>\n",
       "      <td>2.832737</td>\n",
       "      <td>0.095424</td>\n",
       "      <td>-1.112531</td>\n",
       "      <td>3.365419</td>\n",
       "      <td>2.825398</td>\n",
       "      <td>-1.422090</td>\n",
       "      <td>-2.521865</td>\n",
       "      <td>-0.829323</td>\n",
       "      <td>-2.412940</td>\n",
       "      <td>-2.991914</td>\n",
       "      <td>...</td>\n",
       "      <td>-4.013957</td>\n",
       "      <td>-0.765202</td>\n",
       "      <td>-1.190927</td>\n",
       "      <td>-2.920609</td>\n",
       "      <td>-3.611012</td>\n",
       "      <td>1.535344</td>\n",
       "      <td>3.110242</td>\n",
       "      <td>-1.125658</td>\n",
       "      <td>-1.352896</td>\n",
       "      <td>3.052501</td>\n",
       "    </tr>\n",
       "    <tr>\n",
       "      <th>2</th>\n",
       "      <td>2.737299</td>\n",
       "      <td>-0.078576</td>\n",
       "      <td>-1.125753</td>\n",
       "      <td>4.058961</td>\n",
       "      <td>2.927691</td>\n",
       "      <td>-1.201672</td>\n",
       "      <td>-2.971557</td>\n",
       "      <td>-0.765478</td>\n",
       "      <td>-3.519921</td>\n",
       "      <td>-3.074634</td>\n",
       "      <td>...</td>\n",
       "      <td>-3.728411</td>\n",
       "      <td>-0.623525</td>\n",
       "      <td>-1.012816</td>\n",
       "      <td>-3.060644</td>\n",
       "      <td>-3.440344</td>\n",
       "      <td>0.689165</td>\n",
       "      <td>3.235976</td>\n",
       "      <td>-0.915563</td>\n",
       "      <td>-1.075992</td>\n",
       "      <td>3.320132</td>\n",
       "    </tr>\n",
       "    <tr>\n",
       "      <th>3</th>\n",
       "      <td>4.137994</td>\n",
       "      <td>-0.165429</td>\n",
       "      <td>-0.663431</td>\n",
       "      <td>4.248981</td>\n",
       "      <td>4.173454</td>\n",
       "      <td>-0.794609</td>\n",
       "      <td>-2.674799</td>\n",
       "      <td>0.071558</td>\n",
       "      <td>-3.884949</td>\n",
       "      <td>-3.040357</td>\n",
       "      <td>...</td>\n",
       "      <td>-3.514557</td>\n",
       "      <td>-0.045185</td>\n",
       "      <td>-0.458889</td>\n",
       "      <td>-2.564653</td>\n",
       "      <td>-3.640060</td>\n",
       "      <td>2.511205</td>\n",
       "      <td>4.048556</td>\n",
       "      <td>-0.097202</td>\n",
       "      <td>-0.638801</td>\n",
       "      <td>4.249524</td>\n",
       "    </tr>\n",
       "    <tr>\n",
       "      <th>4</th>\n",
       "      <td>2.695566</td>\n",
       "      <td>0.634871</td>\n",
       "      <td>-1.054183</td>\n",
       "      <td>3.660966</td>\n",
       "      <td>2.618429</td>\n",
       "      <td>-1.255912</td>\n",
       "      <td>-1.777488</td>\n",
       "      <td>-0.726600</td>\n",
       "      <td>-3.151954</td>\n",
       "      <td>-2.964745</td>\n",
       "      <td>...</td>\n",
       "      <td>-3.963591</td>\n",
       "      <td>-0.967962</td>\n",
       "      <td>-1.488977</td>\n",
       "      <td>-3.255964</td>\n",
       "      <td>-3.967136</td>\n",
       "      <td>1.370213</td>\n",
       "      <td>2.741645</td>\n",
       "      <td>-1.010343</td>\n",
       "      <td>-1.262643</td>\n",
       "      <td>2.442747</td>\n",
       "    </tr>\n",
       "  </tbody>\n",
       "</table>\n",
       "<p>5 rows × 161 columns</p>\n",
       "</div>"
      ],
      "text/plain": [
       "   cg00120423  cg00490406  cg00905101  cg00938163  cg01240432  cg01309511  \\\n",
       "0    2.772213   -0.357180   -1.874418    3.969904    2.600351   -2.086137   \n",
       "1    2.832737    0.095424   -1.112531    3.365419    2.825398   -1.422090   \n",
       "2    2.737299   -0.078576   -1.125753    4.058961    2.927691   -1.201672   \n",
       "3    4.137994   -0.165429   -0.663431    4.248981    4.173454   -0.794609   \n",
       "4    2.695566    0.634871   -1.054183    3.660966    2.618429   -1.255912   \n",
       "\n",
       "   cg01453469  cg01561719  cg01815076  cg01823541  ...  cg25518302  \\\n",
       "0   -2.454501   -2.169805   -2.078128   -3.010737  ...   -3.804770   \n",
       "1   -2.521865   -0.829323   -2.412940   -2.991914  ...   -4.013957   \n",
       "2   -2.971557   -0.765478   -3.519921   -3.074634  ...   -3.728411   \n",
       "3   -2.674799    0.071558   -3.884949   -3.040357  ...   -3.514557   \n",
       "4   -1.777488   -0.726600   -3.151954   -2.964745  ...   -3.963591   \n",
       "\n",
       "   cg25693439  cg26261002  cg26295541  cg26418880  cg26436927  cg26821758  \\\n",
       "0   -1.809027   -2.196729   -3.526672   -3.810276    1.259756    2.897851   \n",
       "1   -0.765202   -1.190927   -2.920609   -3.611012    1.535344    3.110242   \n",
       "2   -0.623525   -1.012816   -3.060644   -3.440344    0.689165    3.235976   \n",
       "3   -0.045185   -0.458889   -2.564653   -3.640060    2.511205    4.048556   \n",
       "4   -0.967962   -1.488977   -3.255964   -3.967136    1.370213    2.741645   \n",
       "\n",
       "   cg27262850  cg27314686  cg27528971  \n",
       "0   -2.026000   -2.071414    2.806982  \n",
       "1   -1.125658   -1.352896    3.052501  \n",
       "2   -0.915563   -1.075992    3.320132  \n",
       "3   -0.097202   -0.638801    4.249524  \n",
       "4   -1.010343   -1.262643    2.442747  \n",
       "\n",
       "[5 rows x 161 columns]"
      ]
     },
     "execution_count": 2,
     "metadata": {},
     "output_type": "execute_result"
    }
   ],
   "source": [
    "mVal_train = pd.read_csv(\"/Users/chenjiqing/Public/bladder cancer/Extended Deconvolution/Script/Autoencoder_Kmeans/mVals_161.csv\")\n",
    "\n",
    "mVal_train.head()"
   ]
  },
  {
   "cell_type": "code",
   "execution_count": 47,
   "metadata": {},
   "outputs": [
    {
     "name": "stdout",
     "output_type": "stream",
     "text": [
      "Epoch 1/50\n",
      "601/601 [==============================] - 1s 866us/sample - loss: 5.1330\n",
      "Epoch 2/50\n",
      "601/601 [==============================] - 0s 76us/sample - loss: 3.9845\n",
      "Epoch 3/50\n",
      "601/601 [==============================] - 0s 70us/sample - loss: 3.8848\n",
      "Epoch 4/50\n",
      "601/601 [==============================] - 0s 79us/sample - loss: 3.8757\n",
      "Epoch 5/50\n",
      "601/601 [==============================] - 0s 73us/sample - loss: 3.8733\n",
      "Epoch 6/50\n",
      "601/601 [==============================] - 0s 117us/sample - loss: 3.8719\n",
      "Epoch 7/50\n",
      "601/601 [==============================] - 0s 79us/sample - loss: 3.8694\n",
      "Epoch 8/50\n",
      "601/601 [==============================] - 0s 70us/sample - loss: 3.8140\n",
      "Epoch 9/50\n",
      "601/601 [==============================] - 0s 61us/sample - loss: 3.7672\n",
      "Epoch 10/50\n",
      "601/601 [==============================] - 0s 72us/sample - loss: 3.7608\n",
      "Epoch 11/50\n",
      "601/601 [==============================] - 0s 64us/sample - loss: 3.7584\n",
      "Epoch 12/50\n",
      "601/601 [==============================] - 0s 61us/sample - loss: 3.7567\n",
      "Epoch 13/50\n",
      "601/601 [==============================] - 0s 71us/sample - loss: 3.7304\n",
      "Epoch 14/50\n",
      "601/601 [==============================] - 0s 66us/sample - loss: 3.7007\n",
      "Epoch 15/50\n",
      "601/601 [==============================] - 0s 69us/sample - loss: 3.6551\n",
      "Epoch 16/50\n",
      "601/601 [==============================] - 0s 67us/sample - loss: 3.6072\n",
      "Epoch 17/50\n",
      "601/601 [==============================] - 0s 69us/sample - loss: 3.5483\n",
      "Epoch 18/50\n",
      "601/601 [==============================] - 0s 68us/sample - loss: 3.5419\n",
      "Epoch 19/50\n",
      "601/601 [==============================] - 0s 72us/sample - loss: 3.5404\n",
      "Epoch 20/50\n",
      "601/601 [==============================] - 0s 69us/sample - loss: 3.5399\n",
      "Epoch 21/50\n",
      "601/601 [==============================] - 0s 68us/sample - loss: 3.5389\n",
      "Epoch 22/50\n",
      "601/601 [==============================] - 0s 102us/sample - loss: 3.5388\n",
      "Epoch 23/50\n",
      "601/601 [==============================] - 0s 65us/sample - loss: 3.5380\n",
      "Epoch 24/50\n",
      "601/601 [==============================] - 0s 70us/sample - loss: 3.5376\n",
      "Epoch 25/50\n",
      "601/601 [==============================] - 0s 64us/sample - loss: 3.5370\n",
      "Epoch 26/50\n",
      "601/601 [==============================] - 0s 70us/sample - loss: 3.5370\n",
      "Epoch 27/50\n",
      "601/601 [==============================] - 0s 66us/sample - loss: 3.5364\n",
      "Epoch 28/50\n",
      "601/601 [==============================] - 0s 68us/sample - loss: 3.5360\n",
      "Epoch 29/50\n",
      "601/601 [==============================] - 0s 67us/sample - loss: 3.5353\n",
      "Epoch 30/50\n",
      "601/601 [==============================] - 0s 69us/sample - loss: 3.5352\n",
      "Epoch 31/50\n",
      "601/601 [==============================] - 0s 67us/sample - loss: 3.5343\n",
      "Epoch 32/50\n",
      "601/601 [==============================] - 0s 65us/sample - loss: 3.5337\n",
      "Epoch 33/50\n",
      "601/601 [==============================] - 0s 66us/sample - loss: 3.5332\n",
      "Epoch 34/50\n",
      "601/601 [==============================] - 0s 65us/sample - loss: 3.5324\n",
      "Epoch 35/50\n",
      "601/601 [==============================] - 0s 68us/sample - loss: 3.5317\n",
      "Epoch 36/50\n",
      "601/601 [==============================] - 0s 63us/sample - loss: 3.5311\n",
      "Epoch 37/50\n",
      "601/601 [==============================] - 0s 70us/sample - loss: 3.5306\n",
      "Epoch 38/50\n",
      "601/601 [==============================] - 0s 65us/sample - loss: 3.5303\n",
      "Epoch 39/50\n",
      "601/601 [==============================] - 0s 70us/sample - loss: 3.5301\n",
      "Epoch 40/50\n",
      "601/601 [==============================] - 0s 68us/sample - loss: 3.5299\n",
      "Epoch 41/50\n",
      "601/601 [==============================] - 0s 60us/sample - loss: 3.5297\n",
      "Epoch 42/50\n",
      "601/601 [==============================] - 0s 70us/sample - loss: 3.5290\n",
      "Epoch 43/50\n",
      "601/601 [==============================] - 0s 65us/sample - loss: 3.5288\n",
      "Epoch 44/50\n",
      "601/601 [==============================] - 0s 66us/sample - loss: 3.4953\n",
      "Epoch 45/50\n",
      "601/601 [==============================] - 0s 68us/sample - loss: 3.4593\n",
      "Epoch 46/50\n",
      "601/601 [==============================] - 0s 70us/sample - loss: 3.4559\n",
      "Epoch 47/50\n",
      "601/601 [==============================] - 0s 69us/sample - loss: 3.4549\n",
      "Epoch 48/50\n",
      "601/601 [==============================] - 0s 68us/sample - loss: 3.4545\n",
      "Epoch 49/50\n",
      "601/601 [==============================] - 0s 65us/sample - loss: 3.4543\n",
      "Epoch 50/50\n",
      "601/601 [==============================] - 0s 73us/sample - loss: 3.4541\n"
     ]
    }
   ],
   "source": [
    "tf.random.set_random_seed(123)\n",
    "np.random.seed(123)\n",
    "\n",
    "n_inputs = mVal_train.shape[1]\n",
    "\n",
    "autoencoder = Sequential([\n",
    "    Dense(128, activation='relu', input_shape = (n_inputs,), name = 'input_layer'),\n",
    "    Dense(64, activation='relu'),\n",
    "    Dense(20, activation='relu', name = 'latent_layer'),\n",
    "    Dense(64, activation='relu'),\n",
    "    Dense(128, activation='relu'),\n",
    "    Dense(n_inputs, activation='relu')\n",
    "])\n",
    "\n",
    "autoencoder.compile(optimizer='adam', loss = 'mse')\n",
    "h = autoencoder.fit(mVal_train, mVal_train, epochs=50, verbose = 1)"
   ]
  },
  {
   "cell_type": "code",
   "execution_count": 48,
   "metadata": {},
   "outputs": [
    {
     "name": "stdout",
     "output_type": "stream",
     "text": [
      "Model: \"sequential_7\"\n",
      "_________________________________________________________________\n",
      "Layer (type)                 Output Shape              Param #   \n",
      "=================================================================\n",
      "input_layer (Dense)          (None, 128)               20736     \n",
      "_________________________________________________________________\n",
      "dense_28 (Dense)             (None, 64)                8256      \n",
      "_________________________________________________________________\n",
      "latent_layer (Dense)         (None, 20)                1300      \n",
      "_________________________________________________________________\n",
      "dense_29 (Dense)             (None, 64)                1344      \n",
      "_________________________________________________________________\n",
      "dense_30 (Dense)             (None, 128)               8320      \n",
      "_________________________________________________________________\n",
      "dense_31 (Dense)             (None, 161)               20769     \n",
      "=================================================================\n",
      "Total params: 60,725\n",
      "Trainable params: 60,725\n",
      "Non-trainable params: 0\n",
      "_________________________________________________________________\n"
     ]
    }
   ],
   "source": [
    "autoencoder.summary()"
   ]
  },
  {
   "cell_type": "code",
   "execution_count": 49,
   "metadata": {},
   "outputs": [],
   "source": [
    "encoder = Model(autoencoder.input, autoencoder.get_layer('latent_layer').output)\n",
    "latent_pred = encoder.predict(mVal_train)"
   ]
  },
  {
   "cell_type": "code",
   "execution_count": 50,
   "metadata": {},
   "outputs": [
    {
     "data": {
      "text/plain": [
       "(601, 20)"
      ]
     },
     "execution_count": 50,
     "metadata": {},
     "output_type": "execute_result"
    }
   ],
   "source": [
    "latent_pred.shape"
   ]
  },
  {
   "cell_type": "code",
   "execution_count": 51,
   "metadata": {},
   "outputs": [
    {
     "data": {
      "text/plain": [
       "array([[4.7552404, 2.406224 , 0.       , ..., 0.6156801, 2.8391087,\n",
       "        0.       ],\n",
       "       [4.8336663, 3.2376726, 0.       , ..., 1.3431643, 2.020979 ,\n",
       "        0.       ],\n",
       "       [4.417291 , 3.0985303, 0.       , ..., 1.0068116, 1.0227698,\n",
       "        0.       ],\n",
       "       ...,\n",
       "       [3.726744 , 2.0193555, 0.       , ..., 0.8869771, 0.6533387,\n",
       "        0.       ],\n",
       "       [2.974479 , 1.7878823, 0.       , ..., 0.8466855, 0.       ,\n",
       "        0.       ],\n",
       "       [3.5169954, 1.8282598, 0.       , ..., 0.8552815, 2.0254214,\n",
       "        0.       ]], dtype=float32)"
      ]
     },
     "execution_count": 51,
     "metadata": {},
     "output_type": "execute_result"
    }
   ],
   "source": [
    "latent_pred"
   ]
  },
  {
   "cell_type": "code",
   "execution_count": 52,
   "metadata": {},
   "outputs": [
    {
     "data": {
      "text/plain": [
       "[<matplotlib.lines.Line2D at 0x7fab0fed6690>]"
      ]
     },
     "execution_count": 52,
     "metadata": {},
     "output_type": "execute_result"
    },
    {
     "data": {
      "image/png": "[encoded data removed]",
      "text/plain": [
       "<Figure size 432x288 with 1 Axes>"
      ]
     },
     "metadata": {},
     "output_type": "display_data"
    }
   ],
   "source": [
    "from sklearn.cluster import KMeans\n",
    "\n",
    "tf.random.set_random_seed(123)\n",
    "np.random.seed(123)\n",
    "\n",
    "ssd = []\n",
    "for i in range(2, n_inputs):\n",
    "    km = KMeans(n_clusters=i).fit(latent_pred)\n",
    "    ssd.append([int(i),km.inertia_])\n",
    "ssd = np.array(ssd).reshape(-1,2)\n",
    "plt.plot(ssd[:,0], ssd[:,1],'bo-')"
   ]
  },
  {
   "cell_type": "code",
   "execution_count": 53,
   "metadata": {},
   "outputs": [],
   "source": [
    "from sklearn.metrics import silhouette_score\n",
    "silhouette_coefficients = []\n",
    "\n",
    "for k in range(2, 20):\n",
    "    kmeans = KMeans(n_clusters=k)\n",
    "    kmeans.fit(latent_pred)\n",
    "    score = silhouette_score(latent_pred, kmeans.labels_)\n",
    "    silhouette_coefficients.append(score)"
   ]
  },
  {
   "cell_type": "code",
   "execution_count": 54,
   "metadata": {},
   "outputs": [
    {
     "data": {
      "image/png": "[encoded data removed]",
      "text/plain": [
       "<Figure size 432x288 with 1 Axes>"
      ]
     },
     "metadata": {},
     "output_type": "display_data"
    }
   ],
   "source": [
    "plt.style.use(\"fivethirtyeight\")\n",
    "plt.plot(range(2, 20), silhouette_coefficients)\n",
    "plt.xticks(range(2, 20))\n",
    "plt.xlabel(\"Number of Clusters\")\n",
    "plt.ylabel(\"Silhouette Coefficient\")\n",
    "plt.show()"
   ]
  },
  {
   "cell_type": "code",
   "execution_count": 55,
   "metadata": {},
   "outputs": [
    {
     "data": {
      "text/plain": [
       "array([0, 0, 1, 1, 0, 0, 0, 0, 0, 0, 0, 0, 0, 1, 0, 0, 0, 0, 1, 1, 0, 0,\n",
       "       0, 0, 0, 0, 0, 0, 0, 0, 1, 0, 0, 0, 1, 0, 0, 0, 0, 0, 1, 0, 1, 0,\n",
       "       1, 0, 0, 0, 0, 0, 1, 0, 0, 1, 1, 0, 1, 1, 0, 0, 0, 0, 0, 0, 0, 0,\n",
       "       1, 0, 0, 0, 0, 0, 0, 0, 0, 0, 0, 0, 0, 0, 1, 0, 1, 0, 0, 0, 0, 1,\n",
       "       1, 0, 0, 0, 0, 0, 0, 0, 1, 0, 1, 1, 0, 0, 0, 0, 0, 0, 0, 1, 1, 1,\n",
       "       1, 0, 1, 0, 0, 0, 0, 1, 0, 0, 0, 1, 0, 0, 0, 1, 0, 1, 1, 1, 1, 0,\n",
       "       1, 1, 1, 0, 0, 1, 1, 1, 0, 1, 0, 1, 0, 0, 0, 1, 1, 1, 1, 0, 1, 0,\n",
       "       1, 1, 1, 1, 1, 1, 0, 0, 1, 1, 1, 1, 1, 1, 1, 1, 0, 1, 1, 0, 0, 0,\n",
       "       0, 1, 0, 1, 1, 0, 0, 1, 0, 1, 0, 1, 0, 0, 0, 0, 0, 1, 0, 1, 0, 0,\n",
       "       0, 0, 0, 1, 1, 1, 0, 0, 0, 1, 0, 1, 0, 0, 0, 1, 0, 0, 0, 0, 1, 0,\n",
       "       0, 0, 0, 0, 0, 0, 0, 0, 0, 1, 0, 0, 0, 0, 0, 0, 0, 0, 0, 0, 0, 0,\n",
       "       1, 0, 0, 0, 1, 0, 0, 0, 0, 0, 0, 0, 0, 1, 0, 0, 0, 0, 0, 0, 0, 0,\n",
       "       1, 0, 0, 0, 1, 0, 0, 1, 0, 0, 0, 1, 0, 0, 0, 0, 0, 1, 0, 0, 0, 0,\n",
       "       0, 0, 0, 0, 1, 0, 0, 0, 0, 0, 0, 0, 0, 0, 0, 0, 0, 0, 1, 1, 0, 1,\n",
       "       1, 0, 1, 0, 1, 0, 0, 1, 0, 0, 0, 0, 0, 0, 1, 1, 0, 0, 1, 1, 0, 0,\n",
       "       1, 1, 0, 0, 0, 0, 1, 0, 0, 0, 0, 0, 0, 0, 0, 0, 0, 1, 1, 0, 0, 0,\n",
       "       0, 0, 0, 1, 0, 1, 1, 1, 1, 0, 0, 1, 0, 1, 1, 1, 0, 0, 1, 1, 0, 0,\n",
       "       1, 0, 0, 0, 0, 1, 1, 0, 0, 0, 0, 0, 1, 0, 0, 0, 0, 1, 1, 0, 0, 1,\n",
       "       1, 1, 0, 0, 1, 0, 1, 1, 1, 1, 1, 1, 0, 0, 0, 1, 1, 1, 1, 1, 1, 0,\n",
       "       0, 0, 1, 0, 1, 1, 0, 1, 0, 1, 1, 1, 0, 1, 1, 0, 0, 1, 1, 0, 1, 1,\n",
       "       1, 1, 0, 1, 0, 1, 0, 1, 1, 0, 0, 0, 1, 0, 1, 0, 0, 1, 1, 1, 0, 1,\n",
       "       1, 1, 1, 0, 1, 1, 0, 0, 1, 1, 1, 1, 1, 1, 1, 1, 1, 1, 0, 0, 1, 1,\n",
       "       1, 1, 0, 1, 1, 1, 0, 1, 1, 1, 0, 1, 0, 1, 1, 0, 1, 1, 1, 0, 0, 0,\n",
       "       0, 1, 1, 1, 0, 1, 1, 1, 0, 1, 1, 1, 1, 0, 1, 0, 1, 1, 1, 1, 0, 1,\n",
       "       1, 1, 0, 0, 1, 1, 0, 1, 0, 0, 1, 0, 0, 1, 0, 1, 0, 0, 0, 0, 0, 0,\n",
       "       1, 1, 1, 1, 0, 1, 0, 0, 0, 1, 1, 0, 0, 0, 0, 0, 1, 0, 0, 1, 1, 0,\n",
       "       1, 0, 0, 1, 0, 0, 1, 0, 0, 1, 0, 1, 1, 0, 0, 0, 0, 0, 1, 1, 0, 0,\n",
       "       0, 0, 0, 1, 0, 0, 0], dtype=int32)"
      ]
     },
     "execution_count": 55,
     "metadata": {},
     "output_type": "execute_result"
    }
   ],
   "source": [
    "kmeans = KMeans(2)\n",
    "kmeans.fit(latent_pred)\n",
    "identified_clusters = kmeans.fit_predict(latent_pred)\n",
    "identified_clusters"
   ]
  },
  {
   "cell_type": "code",
   "execution_count": 56,
   "metadata": {},
   "outputs": [
    {
     "data": {
      "text/plain": [
       "601"
      ]
     },
     "execution_count": 56,
     "metadata": {},
     "output_type": "execute_result"
    }
   ],
   "source": [
    "len(identified_clusters)"
   ]
  },
  {
   "cell_type": "code",
   "execution_count": 57,
   "metadata": {},
   "outputs": [
    {
     "data": {
      "text/plain": [
       "0.39434276206322794"
      ]
     },
     "execution_count": 57,
     "metadata": {},
     "output_type": "execute_result"
    }
   ],
   "source": [
    "sum(identified_clusters)/len(identified_clusters)"
   ]
  },
  {
   "cell_type": "code",
   "execution_count": 58,
   "metadata": {},
   "outputs": [
    {
     "data": {
      "text/plain": [
       "array([[-1.2846913 , -0.2501202 ],\n",
       "       [-0.06020603,  0.24193084],\n",
       "       [ 0.49541613, -0.9084122 ],\n",
       "       ...,\n",
       "       [-0.54659194, -1.6451621 ],\n",
       "       [-0.8571642 , -2.6991472 ],\n",
       "       [-2.0452    , -1.339755  ]], dtype=float32)"
      ]
     },
     "execution_count": 58,
     "metadata": {},
     "output_type": "execute_result"
    }
   ],
   "source": [
    "from sklearn.decomposition import PCA\n",
    "pca = PCA(n_components = 2)\n",
    "prin_comp = pca.fit_transform(latent_pred)\n",
    "prin_comp"
   ]
  },
  {
   "cell_type": "code",
   "execution_count": 59,
   "metadata": {},
   "outputs": [
    {
     "data": {
      "image/png": "[encoded data removed]",
      "text/plain": [
       "<Figure size 432x288 with 2 Axes>"
      ]
     },
     "metadata": {},
     "output_type": "display_data"
    }
   ],
   "source": [
    "plt.scatter(prin_comp[:, 0], prin_comp[:, 1],\n",
    "            c=identified_clusters, edgecolor='none', alpha=0.5,\n",
    "            cmap=plt.cm.get_cmap('Accent', 10))\n",
    "plt.xlabel('component 1')\n",
    "plt.ylabel('component 2')\n",
    "plt.colorbar();"
   ]
  },
  {
   "cell_type": "code",
   "execution_count": 60,
   "metadata": {},
   "outputs": [],
   "source": [
    "np.savetxt('test.csv', identified_clusters, delimiter=',')"
   ]
  },
  {
   "cell_type": "code",
   "execution_count": null,
   "metadata": {},
   "outputs": [],
   "source": []
  }
 ],
 "metadata": {
  "kernelspec": {
   "display_name": "Python 3",
   "language": "python",
   "name": "python3"
  },
  "language_info": {
   "codemirror_mode": {
    "name": "ipython",
    "version": 3
   },
   "file_extension": ".py",
   "mimetype": "text/x-python",
   "name": "python",
   "nbconvert_exporter": "python",
   "pygments_lexer": "ipython3",
   "version": "3.7.7"
  }
 },
 "nbformat": 4,
 "nbformat_minor": 4
}
